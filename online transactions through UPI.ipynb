{
 "cells": [
  {
   "cell_type": "code",
   "execution_count": 3,
   "id": "0bd3ab9c",
   "metadata": {},
   "outputs": [],
   "source": [
    "import numpy as np\n",
    "import pandas as pd\n",
    "import seaborn as sns\n",
    "import matplotlib.pyplot as plt"
   ]
  },
  {
   "cell_type": "code",
   "execution_count": 4,
   "id": "e40fa71a",
   "metadata": {},
   "outputs": [],
   "source": [
    "df1 = pd.read_csv(\"./UPI apps transaction data in 2021.csv\")\n",
    "df2 = pd.read_csv(\"./UPI apps transaction data in 2022 - - in 2022.csv.csv\")"
   ]
  },
  {
   "cell_type": "code",
   "execution_count": 5,
   "id": "62b5851b",
   "metadata": {},
   "outputs": [],
   "source": [
    "df2 = df2.rename(columns={\"UPI Banks\\n\":'UPI Banks','Volume (Mn) By Costumers\\n':'Volume (Mn) By Costumers','Value (Cr) by Costumers\\n':'Value (Cr) by Costumers','Volume (Mn)\\n':'Volume (Mn)'})\n"
   ]
  },
  {
   "cell_type": "code",
   "execution_count": 6,
   "id": "7baf23e3",
   "metadata": {},
   "outputs": [
    {
     "data": {
      "text/html": [
       "<div>\n",
       "<style scoped>\n",
       "    .dataframe tbody tr th:only-of-type {\n",
       "        vertical-align: middle;\n",
       "    }\n",
       "\n",
       "    .dataframe tbody tr th {\n",
       "        vertical-align: top;\n",
       "    }\n",
       "\n",
       "    .dataframe thead th {\n",
       "        text-align: right;\n",
       "    }\n",
       "</style>\n",
       "<table border=\"1\" class=\"dataframe\">\n",
       "  <thead>\n",
       "    <tr style=\"text-align: right;\">\n",
       "      <th></th>\n",
       "      <th>UPI Banks</th>\n",
       "      <th>Volume (Mn) By Costumers</th>\n",
       "      <th>Value (Cr) by Costumers</th>\n",
       "      <th>Volume (Mn)</th>\n",
       "      <th>Value (Cr)</th>\n",
       "      <th>Month</th>\n",
       "      <th>Year</th>\n",
       "    </tr>\n",
       "  </thead>\n",
       "  <tbody>\n",
       "    <tr>\n",
       "      <th>0</th>\n",
       "      <td>Airtel Payments Bank Apps</td>\n",
       "      <td>8.53</td>\n",
       "      <td>2,047.45</td>\n",
       "      <td>13.22</td>\n",
       "      <td>4,729.77</td>\n",
       "      <td>1</td>\n",
       "      <td>2022</td>\n",
       "    </tr>\n",
       "    <tr>\n",
       "      <th>1</th>\n",
       "      <td>Airtel Payments Bank Apps</td>\n",
       "      <td>5.8</td>\n",
       "      <td>1,199.46</td>\n",
       "      <td>7.58</td>\n",
       "      <td>2,210.17</td>\n",
       "      <td>2</td>\n",
       "      <td>2022</td>\n",
       "    </tr>\n",
       "    <tr>\n",
       "      <th>2</th>\n",
       "      <td>Airtel Payments Bank Apps</td>\n",
       "      <td>8.33</td>\n",
       "      <td>1,934.41</td>\n",
       "      <td>13.16</td>\n",
       "      <td>4,492.25</td>\n",
       "      <td>3</td>\n",
       "      <td>2022</td>\n",
       "    </tr>\n",
       "    <tr>\n",
       "      <th>3</th>\n",
       "      <td>Airtel Payments Bank Apps</td>\n",
       "      <td>5.29</td>\n",
       "      <td>454.64</td>\n",
       "      <td>5.3</td>\n",
       "      <td>460.9</td>\n",
       "      <td>4</td>\n",
       "      <td>2022</td>\n",
       "    </tr>\n",
       "    <tr>\n",
       "      <th>4</th>\n",
       "      <td>Airtel Payments Bank Apps</td>\n",
       "      <td>6.1</td>\n",
       "      <td>486.55</td>\n",
       "      <td>6.11</td>\n",
       "      <td>486.62</td>\n",
       "      <td>5</td>\n",
       "      <td>2022</td>\n",
       "    </tr>\n",
       "    <tr>\n",
       "      <th>...</th>\n",
       "      <td>...</td>\n",
       "      <td>...</td>\n",
       "      <td>...</td>\n",
       "      <td>...</td>\n",
       "      <td>...</td>\n",
       "      <td>...</td>\n",
       "      <td>...</td>\n",
       "    </tr>\n",
       "    <tr>\n",
       "      <th>447</th>\n",
       "      <td>YuvaPay</td>\n",
       "      <td>0.06</td>\n",
       "      <td>105.39</td>\n",
       "      <td>0.06</td>\n",
       "      <td>105.39</td>\n",
       "      <td>3</td>\n",
       "      <td>2022</td>\n",
       "    </tr>\n",
       "    <tr>\n",
       "      <th>448</th>\n",
       "      <td>YuvaPay</td>\n",
       "      <td>0.06</td>\n",
       "      <td>103.34</td>\n",
       "      <td>0.06</td>\n",
       "      <td>103.34</td>\n",
       "      <td>4</td>\n",
       "      <td>2022</td>\n",
       "    </tr>\n",
       "    <tr>\n",
       "      <th>449</th>\n",
       "      <td>YuvaPay</td>\n",
       "      <td>0.04</td>\n",
       "      <td>88.95</td>\n",
       "      <td>0.04</td>\n",
       "      <td>88.95</td>\n",
       "      <td>5</td>\n",
       "      <td>2022</td>\n",
       "    </tr>\n",
       "    <tr>\n",
       "      <th>450</th>\n",
       "      <td>YuvaPay</td>\n",
       "      <td>0.03</td>\n",
       "      <td>58.31</td>\n",
       "      <td>0.03</td>\n",
       "      <td>58.31</td>\n",
       "      <td>6</td>\n",
       "      <td>2022</td>\n",
       "    </tr>\n",
       "    <tr>\n",
       "      <th>451</th>\n",
       "      <td>YuvaPay</td>\n",
       "      <td>0.01</td>\n",
       "      <td>21.38</td>\n",
       "      <td>0.01</td>\n",
       "      <td>21.38</td>\n",
       "      <td>7</td>\n",
       "      <td>2022</td>\n",
       "    </tr>\n",
       "  </tbody>\n",
       "</table>\n",
       "<p>452 rows × 7 columns</p>\n",
       "</div>"
      ],
      "text/plain": [
       "                     UPI Banks Volume (Mn) By Costumers  \\\n",
       "0    Airtel Payments Bank Apps                     8.53   \n",
       "1    Airtel Payments Bank Apps                      5.8   \n",
       "2    Airtel Payments Bank Apps                     8.33   \n",
       "3    Airtel Payments Bank Apps                     5.29   \n",
       "4    Airtel Payments Bank Apps                      6.1   \n",
       "..                         ...                      ...   \n",
       "447                    YuvaPay                     0.06   \n",
       "448                    YuvaPay                     0.06   \n",
       "449                    YuvaPay                     0.04   \n",
       "450                    YuvaPay                     0.03   \n",
       "451                    YuvaPay                     0.01   \n",
       "\n",
       "    Value (Cr) by Costumers Volume (Mn) Value (Cr)  Month  Year  \n",
       "0                  2,047.45       13.22   4,729.77      1  2022  \n",
       "1                  1,199.46        7.58   2,210.17      2  2022  \n",
       "2                  1,934.41       13.16   4,492.25      3  2022  \n",
       "3                    454.64         5.3      460.9      4  2022  \n",
       "4                    486.55        6.11     486.62      5  2022  \n",
       "..                      ...         ...        ...    ...   ...  \n",
       "447                  105.39        0.06     105.39      3  2022  \n",
       "448                  103.34        0.06     103.34      4  2022  \n",
       "449                   88.95        0.04      88.95      5  2022  \n",
       "450                   58.31        0.03      58.31      6  2022  \n",
       "451                   21.38        0.01      21.38      7  2022  \n",
       "\n",
       "[452 rows x 7 columns]"
      ]
     },
     "execution_count": 6,
     "metadata": {},
     "output_type": "execute_result"
    }
   ],
   "source": [
    "df2\n"
   ]
  },
  {
   "cell_type": "code",
   "execution_count": 7,
   "id": "ad1f671b",
   "metadata": {},
   "outputs": [
    {
     "data": {
      "text/html": [
       "<div>\n",
       "<style scoped>\n",
       "    .dataframe tbody tr th:only-of-type {\n",
       "        vertical-align: middle;\n",
       "    }\n",
       "\n",
       "    .dataframe tbody tr th {\n",
       "        vertical-align: top;\n",
       "    }\n",
       "\n",
       "    .dataframe thead th {\n",
       "        text-align: right;\n",
       "    }\n",
       "</style>\n",
       "<table border=\"1\" class=\"dataframe\">\n",
       "  <thead>\n",
       "    <tr style=\"text-align: right;\">\n",
       "      <th></th>\n",
       "      <th>UPI Banks</th>\n",
       "      <th>Volume (Mn) By Costumers</th>\n",
       "      <th>Value (Cr) by Costumers</th>\n",
       "      <th>Volume (Mn)</th>\n",
       "      <th>Value (Cr)</th>\n",
       "      <th>Month</th>\n",
       "      <th>Year</th>\n",
       "    </tr>\n",
       "  </thead>\n",
       "  <tbody>\n",
       "    <tr>\n",
       "      <th>0</th>\n",
       "      <td>Airtel Payments Bank Apps</td>\n",
       "      <td>8.53</td>\n",
       "      <td>2,047.45</td>\n",
       "      <td>13.22</td>\n",
       "      <td>4,729.77</td>\n",
       "      <td>1</td>\n",
       "      <td>2022</td>\n",
       "    </tr>\n",
       "    <tr>\n",
       "      <th>1</th>\n",
       "      <td>Airtel Payments Bank Apps</td>\n",
       "      <td>5.8</td>\n",
       "      <td>1,199.46</td>\n",
       "      <td>7.58</td>\n",
       "      <td>2,210.17</td>\n",
       "      <td>2</td>\n",
       "      <td>2022</td>\n",
       "    </tr>\n",
       "    <tr>\n",
       "      <th>2</th>\n",
       "      <td>Airtel Payments Bank Apps</td>\n",
       "      <td>8.33</td>\n",
       "      <td>1,934.41</td>\n",
       "      <td>13.16</td>\n",
       "      <td>4,492.25</td>\n",
       "      <td>3</td>\n",
       "      <td>2022</td>\n",
       "    </tr>\n",
       "    <tr>\n",
       "      <th>3</th>\n",
       "      <td>Airtel Payments Bank Apps</td>\n",
       "      <td>5.29</td>\n",
       "      <td>454.64</td>\n",
       "      <td>5.3</td>\n",
       "      <td>460.9</td>\n",
       "      <td>4</td>\n",
       "      <td>2022</td>\n",
       "    </tr>\n",
       "    <tr>\n",
       "      <th>4</th>\n",
       "      <td>Airtel Payments Bank Apps</td>\n",
       "      <td>6.1</td>\n",
       "      <td>486.55</td>\n",
       "      <td>6.11</td>\n",
       "      <td>486.62</td>\n",
       "      <td>5</td>\n",
       "      <td>2022</td>\n",
       "    </tr>\n",
       "    <tr>\n",
       "      <th>...</th>\n",
       "      <td>...</td>\n",
       "      <td>...</td>\n",
       "      <td>...</td>\n",
       "      <td>...</td>\n",
       "      <td>...</td>\n",
       "      <td>...</td>\n",
       "      <td>...</td>\n",
       "    </tr>\n",
       "    <tr>\n",
       "      <th>447</th>\n",
       "      <td>YuvaPay</td>\n",
       "      <td>0.06</td>\n",
       "      <td>105.39</td>\n",
       "      <td>0.06</td>\n",
       "      <td>105.39</td>\n",
       "      <td>3</td>\n",
       "      <td>2022</td>\n",
       "    </tr>\n",
       "    <tr>\n",
       "      <th>448</th>\n",
       "      <td>YuvaPay</td>\n",
       "      <td>0.06</td>\n",
       "      <td>103.34</td>\n",
       "      <td>0.06</td>\n",
       "      <td>103.34</td>\n",
       "      <td>4</td>\n",
       "      <td>2022</td>\n",
       "    </tr>\n",
       "    <tr>\n",
       "      <th>449</th>\n",
       "      <td>YuvaPay</td>\n",
       "      <td>0.04</td>\n",
       "      <td>88.95</td>\n",
       "      <td>0.04</td>\n",
       "      <td>88.95</td>\n",
       "      <td>5</td>\n",
       "      <td>2022</td>\n",
       "    </tr>\n",
       "    <tr>\n",
       "      <th>450</th>\n",
       "      <td>YuvaPay</td>\n",
       "      <td>0.03</td>\n",
       "      <td>58.31</td>\n",
       "      <td>0.03</td>\n",
       "      <td>58.31</td>\n",
       "      <td>6</td>\n",
       "      <td>2022</td>\n",
       "    </tr>\n",
       "    <tr>\n",
       "      <th>451</th>\n",
       "      <td>YuvaPay</td>\n",
       "      <td>0.01</td>\n",
       "      <td>21.38</td>\n",
       "      <td>0.01</td>\n",
       "      <td>21.38</td>\n",
       "      <td>7</td>\n",
       "      <td>2022</td>\n",
       "    </tr>\n",
       "  </tbody>\n",
       "</table>\n",
       "<p>452 rows × 7 columns</p>\n",
       "</div>"
      ],
      "text/plain": [
       "                     UPI Banks Volume (Mn) By Costumers  \\\n",
       "0    Airtel Payments Bank Apps                     8.53   \n",
       "1    Airtel Payments Bank Apps                      5.8   \n",
       "2    Airtel Payments Bank Apps                     8.33   \n",
       "3    Airtel Payments Bank Apps                     5.29   \n",
       "4    Airtel Payments Bank Apps                      6.1   \n",
       "..                         ...                      ...   \n",
       "447                    YuvaPay                     0.06   \n",
       "448                    YuvaPay                     0.06   \n",
       "449                    YuvaPay                     0.04   \n",
       "450                    YuvaPay                     0.03   \n",
       "451                    YuvaPay                     0.01   \n",
       "\n",
       "    Value (Cr) by Costumers Volume (Mn) Value (Cr)  Month  Year  \n",
       "0                  2,047.45       13.22   4,729.77      1  2022  \n",
       "1                  1,199.46        7.58   2,210.17      2  2022  \n",
       "2                  1,934.41       13.16   4,492.25      3  2022  \n",
       "3                    454.64         5.3      460.9      4  2022  \n",
       "4                    486.55        6.11     486.62      5  2022  \n",
       "..                      ...         ...        ...    ...   ...  \n",
       "447                  105.39        0.06     105.39      3  2022  \n",
       "448                  103.34        0.06     103.34      4  2022  \n",
       "449                   88.95        0.04      88.95      5  2022  \n",
       "450                   58.31        0.03      58.31      6  2022  \n",
       "451                   21.38        0.01      21.38      7  2022  \n",
       "\n",
       "[452 rows x 7 columns]"
      ]
     },
     "execution_count": 7,
     "metadata": {},
     "output_type": "execute_result"
    }
   ],
   "source": [
    "df2"
   ]
  },
  {
   "cell_type": "code",
   "execution_count": 8,
   "id": "5bf940ff",
   "metadata": {},
   "outputs": [
    {
     "data": {
      "text/plain": [
       "Index(['UPI Banks', 'Volume (Mn) By Costumers', 'Value (Cr) by Costumers',\n",
       "       'Volume (Mn)', 'Value (Cr)', 'Month', 'Year'],\n",
       "      dtype='object')"
      ]
     },
     "execution_count": 8,
     "metadata": {},
     "output_type": "execute_result"
    }
   ],
   "source": [
    "df1.columns"
   ]
  },
  {
   "cell_type": "code",
   "execution_count": 9,
   "id": "36906c28",
   "metadata": {},
   "outputs": [
    {
     "data": {
      "text/plain": [
       "Index(['UPI Banks', 'Volume (Mn) By Costumers', 'Value (Cr) by Costumers',\n",
       "       'Volume (Mn)', 'Value (Cr)', 'Month', 'Year'],\n",
       "      dtype='object')"
      ]
     },
     "execution_count": 9,
     "metadata": {},
     "output_type": "execute_result"
    }
   ],
   "source": [
    "df2.columns"
   ]
  },
  {
   "cell_type": "code",
   "execution_count": 10,
   "id": "602ba67e",
   "metadata": {},
   "outputs": [
    {
     "data": {
      "text/html": [
       "<div>\n",
       "<style scoped>\n",
       "    .dataframe tbody tr th:only-of-type {\n",
       "        vertical-align: middle;\n",
       "    }\n",
       "\n",
       "    .dataframe tbody tr th {\n",
       "        vertical-align: top;\n",
       "    }\n",
       "\n",
       "    .dataframe thead th {\n",
       "        text-align: right;\n",
       "    }\n",
       "</style>\n",
       "<table border=\"1\" class=\"dataframe\">\n",
       "  <thead>\n",
       "    <tr style=\"text-align: right;\">\n",
       "      <th></th>\n",
       "      <th>UPI Banks</th>\n",
       "      <th>Volume (Mn) By Costumers</th>\n",
       "      <th>Value (Cr) by Costumers</th>\n",
       "      <th>Volume (Mn)</th>\n",
       "      <th>Value (Cr)</th>\n",
       "      <th>Month</th>\n",
       "      <th>Year</th>\n",
       "    </tr>\n",
       "  </thead>\n",
       "  <tbody>\n",
       "    <tr>\n",
       "      <th>0</th>\n",
       "      <td>Airtel Payments Bank Apps</td>\n",
       "      <td>9.04</td>\n",
       "      <td>2248.49</td>\n",
       "      <td>15.12</td>\n",
       "      <td>5732.09</td>\n",
       "      <td>12</td>\n",
       "      <td>2021</td>\n",
       "    </tr>\n",
       "    <tr>\n",
       "      <th>1</th>\n",
       "      <td>Airtel Payments Bank Apps</td>\n",
       "      <td>8.41</td>\n",
       "      <td>1923.95</td>\n",
       "      <td>15.9</td>\n",
       "      <td>5554.63</td>\n",
       "      <td>11</td>\n",
       "      <td>2021</td>\n",
       "    </tr>\n",
       "    <tr>\n",
       "      <th>2</th>\n",
       "      <td>Airtel Payments Bank Apps</td>\n",
       "      <td>7.6</td>\n",
       "      <td>1491.34</td>\n",
       "      <td>14.31</td>\n",
       "      <td>4746.79</td>\n",
       "      <td>10</td>\n",
       "      <td>2021</td>\n",
       "    </tr>\n",
       "    <tr>\n",
       "      <th>3</th>\n",
       "      <td>Airtel Payments Bank Apps</td>\n",
       "      <td>6.91</td>\n",
       "      <td>1520.92</td>\n",
       "      <td>11.52</td>\n",
       "      <td>3759.12</td>\n",
       "      <td>9</td>\n",
       "      <td>2021</td>\n",
       "    </tr>\n",
       "    <tr>\n",
       "      <th>4</th>\n",
       "      <td>Airtel Payments Bank Apps</td>\n",
       "      <td>6.14</td>\n",
       "      <td>1396.65</td>\n",
       "      <td>9.31</td>\n",
       "      <td>2941.88</td>\n",
       "      <td>8</td>\n",
       "      <td>2021</td>\n",
       "    </tr>\n",
       "  </tbody>\n",
       "</table>\n",
       "</div>"
      ],
      "text/plain": [
       "                   UPI Banks Volume (Mn) By Costumers Value (Cr) by Costumers  \\\n",
       "0  Airtel Payments Bank Apps                     9.04                 2248.49   \n",
       "1  Airtel Payments Bank Apps                     8.41                 1923.95   \n",
       "2  Airtel Payments Bank Apps                      7.6                 1491.34   \n",
       "3  Airtel Payments Bank Apps                     6.91                 1520.92   \n",
       "4  Airtel Payments Bank Apps                     6.14                 1396.65   \n",
       "\n",
       "  Volume (Mn) Value (Cr)  Month  Year  \n",
       "0       15.12    5732.09     12  2021  \n",
       "1        15.9    5554.63     11  2021  \n",
       "2       14.31    4746.79     10  2021  \n",
       "3       11.52    3759.12      9  2021  \n",
       "4        9.31    2941.88      8  2021  "
      ]
     },
     "execution_count": 10,
     "metadata": {},
     "output_type": "execute_result"
    }
   ],
   "source": [
    "df = pd.concat([df1,df2])\n",
    "df.head()"
   ]
  },
  {
   "cell_type": "code",
   "execution_count": 11,
   "id": "688d4788",
   "metadata": {},
   "outputs": [
    {
     "data": {
      "text/html": [
       "<div>\n",
       "<style scoped>\n",
       "    .dataframe tbody tr th:only-of-type {\n",
       "        vertical-align: middle;\n",
       "    }\n",
       "\n",
       "    .dataframe tbody tr th {\n",
       "        vertical-align: top;\n",
       "    }\n",
       "\n",
       "    .dataframe thead th {\n",
       "        text-align: right;\n",
       "    }\n",
       "</style>\n",
       "<table border=\"1\" class=\"dataframe\">\n",
       "  <thead>\n",
       "    <tr style=\"text-align: right;\">\n",
       "      <th></th>\n",
       "      <th>UPI Banks</th>\n",
       "      <th>Volume (Mn) By Costumers</th>\n",
       "      <th>Value (Cr) by Costumers</th>\n",
       "      <th>Volume (Mn)</th>\n",
       "      <th>Value (Cr)</th>\n",
       "      <th>Month</th>\n",
       "      <th>Year</th>\n",
       "    </tr>\n",
       "  </thead>\n",
       "  <tbody>\n",
       "    <tr>\n",
       "      <th>447</th>\n",
       "      <td>YuvaPay</td>\n",
       "      <td>0.06</td>\n",
       "      <td>105.39</td>\n",
       "      <td>0.06</td>\n",
       "      <td>105.39</td>\n",
       "      <td>3</td>\n",
       "      <td>2022</td>\n",
       "    </tr>\n",
       "    <tr>\n",
       "      <th>448</th>\n",
       "      <td>YuvaPay</td>\n",
       "      <td>0.06</td>\n",
       "      <td>103.34</td>\n",
       "      <td>0.06</td>\n",
       "      <td>103.34</td>\n",
       "      <td>4</td>\n",
       "      <td>2022</td>\n",
       "    </tr>\n",
       "    <tr>\n",
       "      <th>449</th>\n",
       "      <td>YuvaPay</td>\n",
       "      <td>0.04</td>\n",
       "      <td>88.95</td>\n",
       "      <td>0.04</td>\n",
       "      <td>88.95</td>\n",
       "      <td>5</td>\n",
       "      <td>2022</td>\n",
       "    </tr>\n",
       "    <tr>\n",
       "      <th>450</th>\n",
       "      <td>YuvaPay</td>\n",
       "      <td>0.03</td>\n",
       "      <td>58.31</td>\n",
       "      <td>0.03</td>\n",
       "      <td>58.31</td>\n",
       "      <td>6</td>\n",
       "      <td>2022</td>\n",
       "    </tr>\n",
       "    <tr>\n",
       "      <th>451</th>\n",
       "      <td>YuvaPay</td>\n",
       "      <td>0.01</td>\n",
       "      <td>21.38</td>\n",
       "      <td>0.01</td>\n",
       "      <td>21.38</td>\n",
       "      <td>7</td>\n",
       "      <td>2022</td>\n",
       "    </tr>\n",
       "  </tbody>\n",
       "</table>\n",
       "</div>"
      ],
      "text/plain": [
       "    UPI Banks Volume (Mn) By Costumers Value (Cr) by Costumers Volume (Mn)  \\\n",
       "447   YuvaPay                     0.06                  105.39        0.06   \n",
       "448   YuvaPay                     0.06                  103.34        0.06   \n",
       "449   YuvaPay                     0.04                   88.95        0.04   \n",
       "450   YuvaPay                     0.03                   58.31        0.03   \n",
       "451   YuvaPay                     0.01                   21.38        0.01   \n",
       "\n",
       "    Value (Cr)  Month  Year  \n",
       "447     105.39      3  2022  \n",
       "448     103.34      4  2022  \n",
       "449      88.95      5  2022  \n",
       "450      58.31      6  2022  \n",
       "451      21.38      7  2022  "
      ]
     },
     "execution_count": 11,
     "metadata": {},
     "output_type": "execute_result"
    }
   ],
   "source": [
    "df.tail()"
   ]
  },
  {
   "cell_type": "code",
   "execution_count": 12,
   "id": "201648c7",
   "metadata": {},
   "outputs": [],
   "source": [
    "df = df.drop(columns=['Volume (Mn) By Costumers','Value (Cr) by Costumers'])"
   ]
  },
  {
   "cell_type": "code",
   "execution_count": 13,
   "id": "8e986be7",
   "metadata": {},
   "outputs": [
    {
     "data": {
      "text/html": [
       "<div>\n",
       "<style scoped>\n",
       "    .dataframe tbody tr th:only-of-type {\n",
       "        vertical-align: middle;\n",
       "    }\n",
       "\n",
       "    .dataframe tbody tr th {\n",
       "        vertical-align: top;\n",
       "    }\n",
       "\n",
       "    .dataframe thead th {\n",
       "        text-align: right;\n",
       "    }\n",
       "</style>\n",
       "<table border=\"1\" class=\"dataframe\">\n",
       "  <thead>\n",
       "    <tr style=\"text-align: right;\">\n",
       "      <th></th>\n",
       "      <th>UPI Banks</th>\n",
       "      <th>Volume (Mn)</th>\n",
       "      <th>Value (Cr)</th>\n",
       "      <th>Month</th>\n",
       "      <th>Year</th>\n",
       "    </tr>\n",
       "  </thead>\n",
       "  <tbody>\n",
       "    <tr>\n",
       "      <th>0</th>\n",
       "      <td>Airtel Payments Bank Apps</td>\n",
       "      <td>15.12</td>\n",
       "      <td>5732.09</td>\n",
       "      <td>12</td>\n",
       "      <td>2021</td>\n",
       "    </tr>\n",
       "    <tr>\n",
       "      <th>1</th>\n",
       "      <td>Airtel Payments Bank Apps</td>\n",
       "      <td>15.9</td>\n",
       "      <td>5554.63</td>\n",
       "      <td>11</td>\n",
       "      <td>2021</td>\n",
       "    </tr>\n",
       "    <tr>\n",
       "      <th>2</th>\n",
       "      <td>Airtel Payments Bank Apps</td>\n",
       "      <td>14.31</td>\n",
       "      <td>4746.79</td>\n",
       "      <td>10</td>\n",
       "      <td>2021</td>\n",
       "    </tr>\n",
       "    <tr>\n",
       "      <th>3</th>\n",
       "      <td>Airtel Payments Bank Apps</td>\n",
       "      <td>11.52</td>\n",
       "      <td>3759.12</td>\n",
       "      <td>9</td>\n",
       "      <td>2021</td>\n",
       "    </tr>\n",
       "    <tr>\n",
       "      <th>4</th>\n",
       "      <td>Airtel Payments Bank Apps</td>\n",
       "      <td>9.31</td>\n",
       "      <td>2941.88</td>\n",
       "      <td>8</td>\n",
       "      <td>2021</td>\n",
       "    </tr>\n",
       "    <tr>\n",
       "      <th>...</th>\n",
       "      <td>...</td>\n",
       "      <td>...</td>\n",
       "      <td>...</td>\n",
       "      <td>...</td>\n",
       "      <td>...</td>\n",
       "    </tr>\n",
       "    <tr>\n",
       "      <th>447</th>\n",
       "      <td>YuvaPay</td>\n",
       "      <td>0.06</td>\n",
       "      <td>105.39</td>\n",
       "      <td>3</td>\n",
       "      <td>2022</td>\n",
       "    </tr>\n",
       "    <tr>\n",
       "      <th>448</th>\n",
       "      <td>YuvaPay</td>\n",
       "      <td>0.06</td>\n",
       "      <td>103.34</td>\n",
       "      <td>4</td>\n",
       "      <td>2022</td>\n",
       "    </tr>\n",
       "    <tr>\n",
       "      <th>449</th>\n",
       "      <td>YuvaPay</td>\n",
       "      <td>0.04</td>\n",
       "      <td>88.95</td>\n",
       "      <td>5</td>\n",
       "      <td>2022</td>\n",
       "    </tr>\n",
       "    <tr>\n",
       "      <th>450</th>\n",
       "      <td>YuvaPay</td>\n",
       "      <td>0.03</td>\n",
       "      <td>58.31</td>\n",
       "      <td>6</td>\n",
       "      <td>2022</td>\n",
       "    </tr>\n",
       "    <tr>\n",
       "      <th>451</th>\n",
       "      <td>YuvaPay</td>\n",
       "      <td>0.01</td>\n",
       "      <td>21.38</td>\n",
       "      <td>7</td>\n",
       "      <td>2022</td>\n",
       "    </tr>\n",
       "  </tbody>\n",
       "</table>\n",
       "<p>1106 rows × 5 columns</p>\n",
       "</div>"
      ],
      "text/plain": [
       "                     UPI Banks Volume (Mn) Value (Cr)  Month  Year\n",
       "0    Airtel Payments Bank Apps       15.12    5732.09     12  2021\n",
       "1    Airtel Payments Bank Apps        15.9    5554.63     11  2021\n",
       "2    Airtel Payments Bank Apps       14.31    4746.79     10  2021\n",
       "3    Airtel Payments Bank Apps       11.52    3759.12      9  2021\n",
       "4    Airtel Payments Bank Apps        9.31    2941.88      8  2021\n",
       "..                         ...         ...        ...    ...   ...\n",
       "447                    YuvaPay        0.06     105.39      3  2022\n",
       "448                    YuvaPay        0.06     103.34      4  2022\n",
       "449                    YuvaPay        0.04      88.95      5  2022\n",
       "450                    YuvaPay        0.03      58.31      6  2022\n",
       "451                    YuvaPay        0.01      21.38      7  2022\n",
       "\n",
       "[1106 rows x 5 columns]"
      ]
     },
     "execution_count": 13,
     "metadata": {},
     "output_type": "execute_result"
    }
   ],
   "source": [
    "df"
   ]
  },
  {
   "cell_type": "markdown",
   "id": "c52a0a97",
   "metadata": {},
   "source": [
    "How many different Banks are present with the option of UPI?"
   ]
  },
  {
   "cell_type": "code",
   "execution_count": 14,
   "id": "5b2b5556",
   "metadata": {},
   "outputs": [
    {
     "data": {
      "text/plain": [
       "121"
      ]
     },
     "execution_count": 14,
     "metadata": {},
     "output_type": "execute_result"
    }
   ],
   "source": [
    "df['UPI Banks'].unique().size"
   ]
  },
  {
   "cell_type": "markdown",
   "id": "080c12fe",
   "metadata": {},
   "source": [
    "We see there are a total of 121 banks with UPI payment option\n",
    "\n",
    "Let's have a look at the datatypes of the various columns in the DataFrame"
   ]
  },
  {
   "cell_type": "code",
   "execution_count": 15,
   "id": "79ee39f5",
   "metadata": {},
   "outputs": [
    {
     "data": {
      "text/plain": [
       "UPI Banks      object\n",
       "Volume (Mn)    object\n",
       "Value (Cr)     object\n",
       "Month           int64\n",
       "Year            int64\n",
       "dtype: object"
      ]
     },
     "execution_count": 15,
     "metadata": {},
     "output_type": "execute_result"
    }
   ],
   "source": [
    "df.dtypes"
   ]
  },
  {
   "cell_type": "code",
   "execution_count": 16,
   "id": "f66a237f",
   "metadata": {},
   "outputs": [],
   "source": [
    "df['Value (Cr)'] = df['Value (Cr)'].astype('string')"
   ]
  },
  {
   "cell_type": "code",
   "execution_count": 17,
   "id": "75653bd6",
   "metadata": {},
   "outputs": [
    {
     "data": {
      "text/plain": [
       "UPI Banks      object\n",
       "Volume (Mn)    object\n",
       "Value (Cr)     string\n",
       "Month           int64\n",
       "Year            int64\n",
       "dtype: object"
      ]
     },
     "execution_count": 17,
     "metadata": {},
     "output_type": "execute_result"
    }
   ],
   "source": [
    "df.dtypes"
   ]
  },
  {
   "cell_type": "code",
   "execution_count": 18,
   "id": "15ec1db0",
   "metadata": {},
   "outputs": [],
   "source": [
    "df = df.replace(',','',regex=True)"
   ]
  },
  {
   "cell_type": "code",
   "execution_count": 19,
   "id": "d40336bf",
   "metadata": {},
   "outputs": [],
   "source": [
    "df['Value (Cr)'] = df['Value (Cr)'].astype('float32')\n",
    "df['Volume (Mn)'] = df['Volume (Mn)'].astype('float32')"
   ]
  },
  {
   "cell_type": "code",
   "execution_count": 20,
   "id": "d720818c",
   "metadata": {},
   "outputs": [
    {
     "data": {
      "text/html": [
       "<div>\n",
       "<style scoped>\n",
       "    .dataframe tbody tr th:only-of-type {\n",
       "        vertical-align: middle;\n",
       "    }\n",
       "\n",
       "    .dataframe tbody tr th {\n",
       "        vertical-align: top;\n",
       "    }\n",
       "\n",
       "    .dataframe thead th {\n",
       "        text-align: right;\n",
       "    }\n",
       "</style>\n",
       "<table border=\"1\" class=\"dataframe\">\n",
       "  <thead>\n",
       "    <tr style=\"text-align: right;\">\n",
       "      <th></th>\n",
       "      <th>UPI Banks</th>\n",
       "      <th>Volume (Mn)</th>\n",
       "      <th>Value (Cr)</th>\n",
       "      <th>Month</th>\n",
       "      <th>Year</th>\n",
       "    </tr>\n",
       "  </thead>\n",
       "  <tbody>\n",
       "    <tr>\n",
       "      <th>0</th>\n",
       "      <td>Airtel Payments Bank Apps</td>\n",
       "      <td>15.12</td>\n",
       "      <td>5732.089844</td>\n",
       "      <td>12</td>\n",
       "      <td>2021</td>\n",
       "    </tr>\n",
       "    <tr>\n",
       "      <th>1</th>\n",
       "      <td>Airtel Payments Bank Apps</td>\n",
       "      <td>15.90</td>\n",
       "      <td>5554.629883</td>\n",
       "      <td>11</td>\n",
       "      <td>2021</td>\n",
       "    </tr>\n",
       "    <tr>\n",
       "      <th>2</th>\n",
       "      <td>Airtel Payments Bank Apps</td>\n",
       "      <td>14.31</td>\n",
       "      <td>4746.790039</td>\n",
       "      <td>10</td>\n",
       "      <td>2021</td>\n",
       "    </tr>\n",
       "    <tr>\n",
       "      <th>3</th>\n",
       "      <td>Airtel Payments Bank Apps</td>\n",
       "      <td>11.52</td>\n",
       "      <td>3759.120117</td>\n",
       "      <td>9</td>\n",
       "      <td>2021</td>\n",
       "    </tr>\n",
       "    <tr>\n",
       "      <th>4</th>\n",
       "      <td>Airtel Payments Bank Apps</td>\n",
       "      <td>9.31</td>\n",
       "      <td>2941.879883</td>\n",
       "      <td>8</td>\n",
       "      <td>2021</td>\n",
       "    </tr>\n",
       "    <tr>\n",
       "      <th>...</th>\n",
       "      <td>...</td>\n",
       "      <td>...</td>\n",
       "      <td>...</td>\n",
       "      <td>...</td>\n",
       "      <td>...</td>\n",
       "    </tr>\n",
       "    <tr>\n",
       "      <th>447</th>\n",
       "      <td>YuvaPay</td>\n",
       "      <td>0.06</td>\n",
       "      <td>105.389999</td>\n",
       "      <td>3</td>\n",
       "      <td>2022</td>\n",
       "    </tr>\n",
       "    <tr>\n",
       "      <th>448</th>\n",
       "      <td>YuvaPay</td>\n",
       "      <td>0.06</td>\n",
       "      <td>103.339996</td>\n",
       "      <td>4</td>\n",
       "      <td>2022</td>\n",
       "    </tr>\n",
       "    <tr>\n",
       "      <th>449</th>\n",
       "      <td>YuvaPay</td>\n",
       "      <td>0.04</td>\n",
       "      <td>88.949997</td>\n",
       "      <td>5</td>\n",
       "      <td>2022</td>\n",
       "    </tr>\n",
       "    <tr>\n",
       "      <th>450</th>\n",
       "      <td>YuvaPay</td>\n",
       "      <td>0.03</td>\n",
       "      <td>58.310001</td>\n",
       "      <td>6</td>\n",
       "      <td>2022</td>\n",
       "    </tr>\n",
       "    <tr>\n",
       "      <th>451</th>\n",
       "      <td>YuvaPay</td>\n",
       "      <td>0.01</td>\n",
       "      <td>21.379999</td>\n",
       "      <td>7</td>\n",
       "      <td>2022</td>\n",
       "    </tr>\n",
       "  </tbody>\n",
       "</table>\n",
       "<p>1106 rows × 5 columns</p>\n",
       "</div>"
      ],
      "text/plain": [
       "                     UPI Banks  Volume (Mn)   Value (Cr)  Month  Year\n",
       "0    Airtel Payments Bank Apps        15.12  5732.089844     12  2021\n",
       "1    Airtel Payments Bank Apps        15.90  5554.629883     11  2021\n",
       "2    Airtel Payments Bank Apps        14.31  4746.790039     10  2021\n",
       "3    Airtel Payments Bank Apps        11.52  3759.120117      9  2021\n",
       "4    Airtel Payments Bank Apps         9.31  2941.879883      8  2021\n",
       "..                         ...          ...          ...    ...   ...\n",
       "447                    YuvaPay         0.06   105.389999      3  2022\n",
       "448                    YuvaPay         0.06   103.339996      4  2022\n",
       "449                    YuvaPay         0.04    88.949997      5  2022\n",
       "450                    YuvaPay         0.03    58.310001      6  2022\n",
       "451                    YuvaPay         0.01    21.379999      7  2022\n",
       "\n",
       "[1106 rows x 5 columns]"
      ]
     },
     "execution_count": 20,
     "metadata": {},
     "output_type": "execute_result"
    }
   ],
   "source": [
    "df"
   ]
  },
  {
   "cell_type": "markdown",
   "id": "4a2a60f4",
   "metadata": {},
   "source": [
    "Let's now check the total value of transactions in the years 2021 and 2022"
   ]
  },
  {
   "cell_type": "code",
   "execution_count": 21,
   "id": "667ecfde",
   "metadata": {},
   "outputs": [
    {
     "data": {
      "text/plain": [
       "Year\n",
       "2021    7281764.5\n",
       "2022    6828669.5\n",
       "Name: Value (Cr), dtype: float32"
      ]
     },
     "execution_count": 21,
     "metadata": {},
     "output_type": "execute_result"
    }
   ],
   "source": [
    "data = df.groupby(['Year'])['Value (Cr)'].sum()\n",
    "data"
   ]
  },
  {
   "cell_type": "code",
   "execution_count": 22,
   "id": "6028174b",
   "metadata": {},
   "outputs": [
    {
     "data": {
      "text/plain": [
       "<Axes: ylabel='Value (Cr)'>"
      ]
     },
     "execution_count": 22,
     "metadata": {},
     "output_type": "execute_result"
    },
    {
     "data": {
      "image/png": "[encoded data removed]",
      "text/plain": [
       "<Figure size 640x480 with 1 Axes>"
      ]
     },
     "metadata": {},
     "output_type": "display_data"
    }
   ],
   "source": [
    "sns.barplot(x=df['Year'].unique(),y=data,hue=data,width=0.3)"
   ]
  },
  {
   "cell_type": "markdown",
   "id": "370c41ed",
   "metadata": {},
   "source": [
    "Now let's have a look at the volume of transactions in the years 2021 and 2022"
   ]
  },
  {
   "cell_type": "code",
   "execution_count": 23,
   "id": "f9b1c4b9",
   "metadata": {},
   "outputs": [
    {
     "data": {
      "text/plain": [
       "Year\n",
       "2021    39541.050781\n",
       "2022    38924.800781\n",
       "Name: Volume (Mn), dtype: float32"
      ]
     },
     "execution_count": 23,
     "metadata": {},
     "output_type": "execute_result"
    }
   ],
   "source": [
    "Volume = df.groupby(['Year'])['Volume (Mn)'].sum()\n",
    "Volume"
   ]
  },
  {
   "cell_type": "code",
   "execution_count": 24,
   "id": "c62a3435",
   "metadata": {},
   "outputs": [
    {
     "data": {
      "text/plain": [
       "<Axes: ylabel='Volume (Mn)'>"
      ]
     },
     "execution_count": 24,
     "metadata": {},
     "output_type": "execute_result"
    },
    {
     "data": {
      "image/png": "[encoded data removed]",
      "text/plain": [
       "<Figure size 640x480 with 1 Axes>"
      ]
     },
     "metadata": {},
     "output_type": "display_data"
    }
   ],
   "source": [
    "sns.barplot(x=df['Year'].unique(), y = Volume, hue=Volume,width=0.3)"
   ]
  },
  {
   "cell_type": "code",
   "execution_count": 25,
   "id": "99b58cfd",
   "metadata": {},
   "outputs": [
    {
     "data": {
      "text/plain": [
       "Year  UPI Banks                      \n",
       "2021  AU Small Finance Bank App            438.589996\n",
       "      Airtel Payments Bank Apps          40586.968750\n",
       "      Allahabad Bank App                    88.389999\n",
       "      Amazon Pay                         60962.339844\n",
       "      Andhra Bank App                       13.320000\n",
       "                                             ...     \n",
       "2022  Utkarsh Small Finance Bank             2.420000\n",
       "      Utkarsh Small Finance Bank Apps       20.230000\n",
       "      WhatsApp                            2121.140137\n",
       "      Yes Bank Apps                      69505.867188\n",
       "      YuvaPay                              544.190002\n",
       "Name: Value (Cr), Length: 180, dtype: float32"
      ]
     },
     "execution_count": 25,
     "metadata": {},
     "output_type": "execute_result"
    }
   ],
   "source": [
    "YearVal = df.groupby(['Year','UPI Banks'])['Value (Cr)'].sum()\n",
    "YearVal"
   ]
  },
  {
   "cell_type": "code",
   "execution_count": 26,
   "id": "6b042fd0",
   "metadata": {},
   "outputs": [
    {
     "data": {
      "text/html": [
       "<div>\n",
       "<style scoped>\n",
       "    .dataframe tbody tr th:only-of-type {\n",
       "        vertical-align: middle;\n",
       "    }\n",
       "\n",
       "    .dataframe tbody tr th {\n",
       "        vertical-align: top;\n",
       "    }\n",
       "\n",
       "    .dataframe thead th {\n",
       "        text-align: right;\n",
       "    }\n",
       "</style>\n",
       "<table border=\"1\" class=\"dataframe\">\n",
       "  <thead>\n",
       "    <tr style=\"text-align: right;\">\n",
       "      <th></th>\n",
       "      <th>UPI Banks</th>\n",
       "      <th>Volume (Mn)</th>\n",
       "      <th>Value (Cr)</th>\n",
       "      <th>Month</th>\n",
       "      <th>Year</th>\n",
       "    </tr>\n",
       "  </thead>\n",
       "  <tbody>\n",
       "    <tr>\n",
       "      <th>0</th>\n",
       "      <td>Airtel Payments Bank Apps</td>\n",
       "      <td>15.12</td>\n",
       "      <td>5732.089844</td>\n",
       "      <td>12</td>\n",
       "      <td>2021</td>\n",
       "    </tr>\n",
       "    <tr>\n",
       "      <th>1</th>\n",
       "      <td>Airtel Payments Bank Apps</td>\n",
       "      <td>15.90</td>\n",
       "      <td>5554.629883</td>\n",
       "      <td>11</td>\n",
       "      <td>2021</td>\n",
       "    </tr>\n",
       "    <tr>\n",
       "      <th>2</th>\n",
       "      <td>Airtel Payments Bank Apps</td>\n",
       "      <td>14.31</td>\n",
       "      <td>4746.790039</td>\n",
       "      <td>10</td>\n",
       "      <td>2021</td>\n",
       "    </tr>\n",
       "    <tr>\n",
       "      <th>3</th>\n",
       "      <td>Airtel Payments Bank Apps</td>\n",
       "      <td>11.52</td>\n",
       "      <td>3759.120117</td>\n",
       "      <td>9</td>\n",
       "      <td>2021</td>\n",
       "    </tr>\n",
       "    <tr>\n",
       "      <th>4</th>\n",
       "      <td>Airtel Payments Bank Apps</td>\n",
       "      <td>9.31</td>\n",
       "      <td>2941.879883</td>\n",
       "      <td>8</td>\n",
       "      <td>2021</td>\n",
       "    </tr>\n",
       "    <tr>\n",
       "      <th>...</th>\n",
       "      <td>...</td>\n",
       "      <td>...</td>\n",
       "      <td>...</td>\n",
       "      <td>...</td>\n",
       "      <td>...</td>\n",
       "    </tr>\n",
       "    <tr>\n",
       "      <th>649</th>\n",
       "      <td>YuvaPay</td>\n",
       "      <td>1.33</td>\n",
       "      <td>60.439999</td>\n",
       "      <td>6</td>\n",
       "      <td>2021</td>\n",
       "    </tr>\n",
       "    <tr>\n",
       "      <th>650</th>\n",
       "      <td>YuvaPay</td>\n",
       "      <td>2.32</td>\n",
       "      <td>73.160004</td>\n",
       "      <td>5</td>\n",
       "      <td>2021</td>\n",
       "    </tr>\n",
       "    <tr>\n",
       "      <th>651</th>\n",
       "      <td>YuvaPay</td>\n",
       "      <td>1.59</td>\n",
       "      <td>51.220001</td>\n",
       "      <td>4</td>\n",
       "      <td>2021</td>\n",
       "    </tr>\n",
       "    <tr>\n",
       "      <th>652</th>\n",
       "      <td>YuvaPay</td>\n",
       "      <td>0.56</td>\n",
       "      <td>18.559999</td>\n",
       "      <td>3</td>\n",
       "      <td>2021</td>\n",
       "    </tr>\n",
       "    <tr>\n",
       "      <th>653</th>\n",
       "      <td>YuvaPay</td>\n",
       "      <td>0.02</td>\n",
       "      <td>0.630000</td>\n",
       "      <td>2</td>\n",
       "      <td>2021</td>\n",
       "    </tr>\n",
       "  </tbody>\n",
       "</table>\n",
       "<p>654 rows × 5 columns</p>\n",
       "</div>"
      ],
      "text/plain": [
       "                     UPI Banks  Volume (Mn)   Value (Cr)  Month  Year\n",
       "0    Airtel Payments Bank Apps        15.12  5732.089844     12  2021\n",
       "1    Airtel Payments Bank Apps        15.90  5554.629883     11  2021\n",
       "2    Airtel Payments Bank Apps        14.31  4746.790039     10  2021\n",
       "3    Airtel Payments Bank Apps        11.52  3759.120117      9  2021\n",
       "4    Airtel Payments Bank Apps         9.31  2941.879883      8  2021\n",
       "..                         ...          ...          ...    ...   ...\n",
       "649                    YuvaPay         1.33    60.439999      6  2021\n",
       "650                    YuvaPay         2.32    73.160004      5  2021\n",
       "651                    YuvaPay         1.59    51.220001      4  2021\n",
       "652                    YuvaPay         0.56    18.559999      3  2021\n",
       "653                    YuvaPay         0.02     0.630000      2  2021\n",
       "\n",
       "[654 rows x 5 columns]"
      ]
     },
     "execution_count": 26,
     "metadata": {},
     "output_type": "execute_result"
    }
   ],
   "source": [
    "tDf = df.loc[df['Year'] == 2021]\n",
    "tDf"
   ]
  },
  {
   "cell_type": "code",
   "execution_count": 27,
   "id": "cbde8e67",
   "metadata": {},
   "outputs": [
    {
     "data": {
      "text/plain": [
       "UPI Banks\n",
       "AU Small Finance Bank App      438.589996\n",
       "Airtel Payments Bank Apps    40586.968750\n",
       "Allahabad Bank App              88.389999\n",
       "Amazon Pay                   60962.339844\n",
       "Andhra Bank App                 13.320000\n",
       "                                 ...     \n",
       "Union Bank Apps               1752.699951\n",
       "WhatsApp                       735.729980\n",
       "WhatsApp*                      104.190002\n",
       "Yes Bank Apps                61299.320312\n",
       "YuvaPay                        514.929993\n",
       "Name: Value (Cr), Length: 69, dtype: float32"
      ]
     },
     "execution_count": 27,
     "metadata": {},
     "output_type": "execute_result"
    }
   ],
   "source": [
    "tValue1 = tDf.groupby(['UPI Banks'])['Value (Cr)'].sum()\n",
    "tValue1"
   ]
  },
  {
   "cell_type": "markdown",
   "id": "5f5441e6",
   "metadata": {},
   "source": [
    "Let's have a look at the transactions by top 10 UPI banks in 2021"
   ]
  },
  {
   "cell_type": "code",
   "execution_count": 28,
   "id": "227bd01f",
   "metadata": {},
   "outputs": [
    {
     "data": {
      "text/plain": [
       "UPI Banks\n",
       "PhonePe                      3.365727e+06\n",
       "Google Pay                   2.737497e+06\n",
       "Paytm Payments Bank App      6.691898e+05\n",
       "Cred                         9.701360e+04\n",
       "BHIM                         9.110689e+04\n",
       "ICICI Bank Apps              6.229795e+04\n",
       "Yes Bank Apps                6.129932e+04\n",
       "Amazon Pay                   6.096234e+04\n",
       "Airtel Payments Bank Apps    4.058697e+04\n",
       "State Bank of India Apps     2.535739e+04\n",
       "Name: Value (Cr), dtype: float32"
      ]
     },
     "execution_count": 28,
     "metadata": {},
     "output_type": "execute_result"
    }
   ],
   "source": [
    "arr = tDf.groupby(['UPI Banks'])['Value (Cr)'].sum().sort_values(ascending=False).head(10)\n",
    "arr"
   ]
  },
  {
   "cell_type": "code",
   "execution_count": 29,
   "id": "a6314b12",
   "metadata": {},
   "outputs": [
    {
     "data": {
      "text/plain": [
       "Index(['PhonePe', 'Google Pay', 'Paytm Payments Bank App', 'Cred', 'BHIM',\n",
       "       'ICICI Bank Apps', 'Yes Bank Apps', 'Amazon Pay',\n",
       "       'Airtel Payments Bank Apps', 'State Bank of India Apps'],\n",
       "      dtype='object', name='UPI Banks')"
      ]
     },
     "execution_count": 29,
     "metadata": {},
     "output_type": "execute_result"
    }
   ],
   "source": [
    "index = arr.index\n",
    "index"
   ]
  },
  {
   "cell_type": "code",
   "execution_count": 30,
   "id": "04a19d09",
   "metadata": {},
   "outputs": [
    {
     "data": {
      "text/plain": [
       "(array([0, 1, 2, 3, 4, 5, 6, 7, 8, 9]),\n",
       " [Text(0, 0, 'PhonePe'),\n",
       "  Text(1, 0, 'Google Pay'),\n",
       "  Text(2, 0, 'Paytm Payments Bank App'),\n",
       "  Text(3, 0, 'Cred'),\n",
       "  Text(4, 0, 'BHIM'),\n",
       "  Text(5, 0, 'ICICI Bank Apps'),\n",
       "  Text(6, 0, 'Yes Bank Apps'),\n",
       "  Text(7, 0, 'Amazon Pay'),\n",
       "  Text(8, 0, 'Airtel Payments Bank Apps'),\n",
       "  Text(9, 0, 'State Bank of India Apps')])"
      ]
     },
     "execution_count": 30,
     "metadata": {},
     "output_type": "execute_result"
    },
    {
     "data": {
      "image/png": "[encoded data removed]",
      "text/plain": [
       "<Figure size 640x480 with 1 Axes>"
      ]
     },
     "metadata": {},
     "output_type": "display_data"
    }
   ],
   "source": [
    "sns.barplot(x=index,y=arr,hue=arr,width = 0.5)\n",
    "plt.xticks(rotation=90)"
   ]
  },
  {
   "cell_type": "markdown",
   "id": "c75915d8",
   "metadata": {},
   "source": [
    "By observing the above plot, we see that PhonePe was the most widely used to carry out transactions, followed by Google Pay, PayTM and CRED in 2021\n",
    "\n",
    "Let's have a look at the same for year 2022"
   ]
  },
  {
   "cell_type": "code",
   "execution_count": 31,
   "id": "8fbbc05a",
   "metadata": {},
   "outputs": [
    {
     "data": {
      "text/html": [
       "<div>\n",
       "<style scoped>\n",
       "    .dataframe tbody tr th:only-of-type {\n",
       "        vertical-align: middle;\n",
       "    }\n",
       "\n",
       "    .dataframe tbody tr th {\n",
       "        vertical-align: top;\n",
       "    }\n",
       "\n",
       "    .dataframe thead th {\n",
       "        text-align: right;\n",
       "    }\n",
       "</style>\n",
       "<table border=\"1\" class=\"dataframe\">\n",
       "  <thead>\n",
       "    <tr style=\"text-align: right;\">\n",
       "      <th></th>\n",
       "      <th>UPI Banks</th>\n",
       "      <th>Volume (Mn)</th>\n",
       "      <th>Value (Cr)</th>\n",
       "      <th>Month</th>\n",
       "      <th>Year</th>\n",
       "    </tr>\n",
       "  </thead>\n",
       "  <tbody>\n",
       "    <tr>\n",
       "      <th>0</th>\n",
       "      <td>Airtel Payments Bank Apps</td>\n",
       "      <td>13.22</td>\n",
       "      <td>4729.770020</td>\n",
       "      <td>1</td>\n",
       "      <td>2022</td>\n",
       "    </tr>\n",
       "    <tr>\n",
       "      <th>1</th>\n",
       "      <td>Airtel Payments Bank Apps</td>\n",
       "      <td>7.58</td>\n",
       "      <td>2210.169922</td>\n",
       "      <td>2</td>\n",
       "      <td>2022</td>\n",
       "    </tr>\n",
       "    <tr>\n",
       "      <th>2</th>\n",
       "      <td>Airtel Payments Bank Apps</td>\n",
       "      <td>13.16</td>\n",
       "      <td>4492.250000</td>\n",
       "      <td>3</td>\n",
       "      <td>2022</td>\n",
       "    </tr>\n",
       "    <tr>\n",
       "      <th>3</th>\n",
       "      <td>Airtel Payments Bank Apps</td>\n",
       "      <td>5.30</td>\n",
       "      <td>460.899994</td>\n",
       "      <td>4</td>\n",
       "      <td>2022</td>\n",
       "    </tr>\n",
       "    <tr>\n",
       "      <th>4</th>\n",
       "      <td>Airtel Payments Bank Apps</td>\n",
       "      <td>6.11</td>\n",
       "      <td>486.619995</td>\n",
       "      <td>5</td>\n",
       "      <td>2022</td>\n",
       "    </tr>\n",
       "    <tr>\n",
       "      <th>...</th>\n",
       "      <td>...</td>\n",
       "      <td>...</td>\n",
       "      <td>...</td>\n",
       "      <td>...</td>\n",
       "      <td>...</td>\n",
       "    </tr>\n",
       "    <tr>\n",
       "      <th>447</th>\n",
       "      <td>YuvaPay</td>\n",
       "      <td>0.06</td>\n",
       "      <td>105.389999</td>\n",
       "      <td>3</td>\n",
       "      <td>2022</td>\n",
       "    </tr>\n",
       "    <tr>\n",
       "      <th>448</th>\n",
       "      <td>YuvaPay</td>\n",
       "      <td>0.06</td>\n",
       "      <td>103.339996</td>\n",
       "      <td>4</td>\n",
       "      <td>2022</td>\n",
       "    </tr>\n",
       "    <tr>\n",
       "      <th>449</th>\n",
       "      <td>YuvaPay</td>\n",
       "      <td>0.04</td>\n",
       "      <td>88.949997</td>\n",
       "      <td>5</td>\n",
       "      <td>2022</td>\n",
       "    </tr>\n",
       "    <tr>\n",
       "      <th>450</th>\n",
       "      <td>YuvaPay</td>\n",
       "      <td>0.03</td>\n",
       "      <td>58.310001</td>\n",
       "      <td>6</td>\n",
       "      <td>2022</td>\n",
       "    </tr>\n",
       "    <tr>\n",
       "      <th>451</th>\n",
       "      <td>YuvaPay</td>\n",
       "      <td>0.01</td>\n",
       "      <td>21.379999</td>\n",
       "      <td>7</td>\n",
       "      <td>2022</td>\n",
       "    </tr>\n",
       "  </tbody>\n",
       "</table>\n",
       "<p>452 rows × 5 columns</p>\n",
       "</div>"
      ],
      "text/plain": [
       "                     UPI Banks  Volume (Mn)   Value (Cr)  Month  Year\n",
       "0    Airtel Payments Bank Apps        13.22  4729.770020      1  2022\n",
       "1    Airtel Payments Bank Apps         7.58  2210.169922      2  2022\n",
       "2    Airtel Payments Bank Apps        13.16  4492.250000      3  2022\n",
       "3    Airtel Payments Bank Apps         5.30   460.899994      4  2022\n",
       "4    Airtel Payments Bank Apps         6.11   486.619995      5  2022\n",
       "..                         ...          ...          ...    ...   ...\n",
       "447                    YuvaPay         0.06   105.389999      3  2022\n",
       "448                    YuvaPay         0.06   103.339996      4  2022\n",
       "449                    YuvaPay         0.04    88.949997      5  2022\n",
       "450                    YuvaPay         0.03    58.310001      6  2022\n",
       "451                    YuvaPay         0.01    21.379999      7  2022\n",
       "\n",
       "[452 rows x 5 columns]"
      ]
     },
     "execution_count": 31,
     "metadata": {},
     "output_type": "execute_result"
    }
   ],
   "source": [
    "ttDf = df.loc[df['Year'] == 2022]\n",
    "ttDf"
   ]
  },
  {
   "cell_type": "code",
   "execution_count": 32,
   "id": "ada59c75",
   "metadata": {},
   "outputs": [
    {
     "data": {
      "text/plain": [
       "UPI Banks\n",
       "PhonePe                      3.308018e+06\n",
       "Google Pay                   2.361001e+06\n",
       "Paytm Payments Bank App      6.902709e+05\n",
       "Cred                         1.155373e+05\n",
       "ICICI Bank Apps              7.009768e+04\n",
       "Yes Bank Apps                6.950587e+04\n",
       "BHIM                         5.771994e+04\n",
       "Amazon Pay                   4.661630e+04\n",
       "State Bank of India Apps     1.423526e+04\n",
       "Airtel Payments Bank Apps    1.344117e+04\n",
       "Name: Value (Cr), dtype: float32"
      ]
     },
     "execution_count": 32,
     "metadata": {},
     "output_type": "execute_result"
    }
   ],
   "source": [
    "arr2 = ttDf.groupby(['UPI Banks'])['Value (Cr)'].sum().sort_values(ascending=False).head(10)\n",
    "arr2"
   ]
  },
  {
   "cell_type": "code",
   "execution_count": 33,
   "id": "b9ca251e",
   "metadata": {},
   "outputs": [
    {
     "data": {
      "text/plain": [
       "Index(['PhonePe', 'Google Pay', 'Paytm Payments Bank App', 'Cred',\n",
       "       'ICICI Bank Apps', 'Yes Bank Apps', 'BHIM', 'Amazon Pay',\n",
       "       'State Bank of India Apps', 'Airtel Payments Bank Apps'],\n",
       "      dtype='object', name='UPI Banks')"
      ]
     },
     "execution_count": 33,
     "metadata": {},
     "output_type": "execute_result"
    }
   ],
   "source": [
    "index2 = arr2.index\n",
    "index2"
   ]
  },
  {
   "cell_type": "code",
   "execution_count": 34,
   "id": "585c8393",
   "metadata": {},
   "outputs": [
    {
     "data": {
      "text/plain": [
       "(array([0, 1, 2, 3, 4, 5, 6, 7, 8, 9]),\n",
       " [Text(0, 0, 'PhonePe'),\n",
       "  Text(1, 0, 'Google Pay'),\n",
       "  Text(2, 0, 'Paytm Payments Bank App'),\n",
       "  Text(3, 0, 'Cred'),\n",
       "  Text(4, 0, 'ICICI Bank Apps'),\n",
       "  Text(5, 0, 'Yes Bank Apps'),\n",
       "  Text(6, 0, 'BHIM'),\n",
       "  Text(7, 0, 'Amazon Pay'),\n",
       "  Text(8, 0, 'State Bank of India Apps'),\n",
       "  Text(9, 0, 'Airtel Payments Bank Apps')])"
      ]
     },
     "execution_count": 34,
     "metadata": {},
     "output_type": "execute_result"
    },
    {
     "data": {
      "image/png": "[encoded data removed]",
      "text/plain": [
       "<Figure size 640x480 with 1 Axes>"
      ]
     },
     "metadata": {},
     "output_type": "display_data"
    }
   ],
   "source": [
    "sns.barplot(x=index2,y=arr2,hue=arr2,width = 0.5)\n",
    "plt.xticks(rotation=90)"
   ]
  },
  {
   "cell_type": "markdown",
   "id": "ee5398b6",
   "metadata": {},
   "source": [
    "By observing the above plots, we see that PhonePe again dominates the UPI market in 2022 as well, followed by Google Pay, PayTM and CRED.\n",
    "\n",
    "Monthwise transactions"
   ]
  },
  {
   "cell_type": "code",
   "execution_count": 35,
   "id": "3995ec51",
   "metadata": {},
   "outputs": [
    {
     "data": {
      "text/plain": [
       "Month\n",
       "1     1.284009e+06\n",
       "2     1.271075e+06\n",
       "3     1.484382e+06\n",
       "4     1.508103e+06\n",
       "5     1.556681e+06\n",
       "6     1.579938e+06\n",
       "7     1.691540e+06\n",
       "8     6.469543e+05\n",
       "9     6.642049e+05\n",
       "10    7.904694e+05\n",
       "11    7.865381e+05\n",
       "12    8.465406e+05\n",
       "Name: Value (Cr), dtype: float32"
      ]
     },
     "execution_count": 35,
     "metadata": {},
     "output_type": "execute_result"
    }
   ],
   "source": [
    "new_t = df.groupby(['Month'])['Value (Cr)'].sum()\n",
    "new_t"
   ]
  },
  {
   "cell_type": "code",
   "execution_count": 36,
   "id": "24d0045e",
   "metadata": {},
   "outputs": [
    {
     "data": {
      "text/plain": [
       "Int64Index([1, 2, 3, 4, 5, 6, 7, 8, 9, 10, 11, 12], dtype='int64', name='Month')"
      ]
     },
     "execution_count": 36,
     "metadata": {},
     "output_type": "execute_result"
    }
   ],
   "source": [
    "ind_month = new_t.index\n",
    "ind_month"
   ]
  },
  {
   "cell_type": "code",
   "execution_count": 37,
   "id": "38f9500a",
   "metadata": {},
   "outputs": [
    {
     "data": {
      "text/plain": [
       "<Axes: xlabel='Month', ylabel='Value (Cr)'>"
      ]
     },
     "execution_count": 37,
     "metadata": {},
     "output_type": "execute_result"
    },
    {
     "data": {
      "image/png": "[encoded data removed]",
      "text/plain": [
       "<Figure size 640x480 with 1 Axes>"
      ]
     },
     "metadata": {},
     "output_type": "display_data"
    }
   ],
   "source": [
    "sns.barplot(x=ind_month,y=new_t)"
   ]
  },
  {
   "cell_type": "markdown",
   "id": "8a748f87",
   "metadata": {},
   "source": [
    "We observe a gradual increase in the value of transactions from month 1 to 7, then sudden drop and then again gradual increase\n",
    "\n",
    "This may be the result because the data for each month was not available equally"
   ]
  },
  {
   "cell_type": "code",
   "execution_count": 38,
   "id": "381d5d7a",
   "metadata": {},
   "outputs": [
    {
     "name": "stderr",
     "output_type": "stream",
     "text": [
      "C:\\Users\\idofg\\AppData\\Local\\Temp\\ipykernel_32328\\1134722465.py:1: FutureWarning: The default value of numeric_only in DataFrame.corr is deprecated. In a future version, it will default to False. Select only valid columns or specify the value of numeric_only to silence this warning.\n",
      "  df.corr()\n"
     ]
    },
    {
     "data": {
      "text/html": [
       "<div>\n",
       "<style scoped>\n",
       "    .dataframe tbody tr th:only-of-type {\n",
       "        vertical-align: middle;\n",
       "    }\n",
       "\n",
       "    .dataframe tbody tr th {\n",
       "        vertical-align: top;\n",
       "    }\n",
       "\n",
       "    .dataframe thead th {\n",
       "        text-align: right;\n",
       "    }\n",
       "</style>\n",
       "<table border=\"1\" class=\"dataframe\">\n",
       "  <thead>\n",
       "    <tr style=\"text-align: right;\">\n",
       "      <th></th>\n",
       "      <th>Volume (Mn)</th>\n",
       "      <th>Value (Cr)</th>\n",
       "      <th>Month</th>\n",
       "      <th>Year</th>\n",
       "    </tr>\n",
       "  </thead>\n",
       "  <tbody>\n",
       "    <tr>\n",
       "      <th>Volume (Mn)</th>\n",
       "      <td>1.000000</td>\n",
       "      <td>0.993863</td>\n",
       "      <td>0.013933</td>\n",
       "      <td>0.038815</td>\n",
       "    </tr>\n",
       "    <tr>\n",
       "      <th>Value (Cr)</th>\n",
       "      <td>0.993863</td>\n",
       "      <td>1.000000</td>\n",
       "      <td>0.013540</td>\n",
       "      <td>0.032648</td>\n",
       "    </tr>\n",
       "    <tr>\n",
       "      <th>Month</th>\n",
       "      <td>0.013933</td>\n",
       "      <td>0.013540</td>\n",
       "      <td>1.000000</td>\n",
       "      <td>-0.380736</td>\n",
       "    </tr>\n",
       "    <tr>\n",
       "      <th>Year</th>\n",
       "      <td>0.038815</td>\n",
       "      <td>0.032648</td>\n",
       "      <td>-0.380736</td>\n",
       "      <td>1.000000</td>\n",
       "    </tr>\n",
       "  </tbody>\n",
       "</table>\n",
       "</div>"
      ],
      "text/plain": [
       "             Volume (Mn)  Value (Cr)     Month      Year\n",
       "Volume (Mn)     1.000000    0.993863  0.013933  0.038815\n",
       "Value (Cr)      0.993863    1.000000  0.013540  0.032648\n",
       "Month           0.013933    0.013540  1.000000 -0.380736\n",
       "Year            0.038815    0.032648 -0.380736  1.000000"
      ]
     },
     "execution_count": 38,
     "metadata": {},
     "output_type": "execute_result"
    }
   ],
   "source": [
    "df.corr()"
   ]
  },
  {
   "cell_type": "markdown",
   "id": "da615c26",
   "metadata": {},
   "source": [
    "We see a very strong correlation between Volume of transactions and Value of transactions. It is the logically expected behaviour as greater volume of transactions would definitely increase the value of transactions\n",
    "\n",
    "From the above analysis, we can conclude the following:\n",
    "\n",
    "There are a total of 121 UPI banks in this dataset.\n",
    "The value of transactions carried out in 2021 was greater than that in 2022 by a small difference.\n",
    "In both the years 2021 and 2022, most popular and most widely used to carry out UPI transactions: PhonePe, Google Pay, PayTM and CRED.\n",
    "Most UPI transactions are carried out in month 7, that is, July.\n",
    "From the correlation, we can conclude that greater the volume of transactions, greater is the value of transactions carried out."
   ]
  }
 ],
 "metadata": {
  "kernelspec": {
   "display_name": "Python 3 (ipykernel)",
   "language": "python",
   "name": "python3"
  },
  "language_info": {
   "codemirror_mode": {
    "name": "ipython",
    "version": 3
   },
   "file_extension": ".py",
   "mimetype": "text/x-python",
   "name": "python",
   "nbconvert_exporter": "python",
   "pygments_lexer": "ipython3",
   "version": "3.10.9"
  }
 },
 "nbformat": 4,
 "nbformat_minor": 5
}
